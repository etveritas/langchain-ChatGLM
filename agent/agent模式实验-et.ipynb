{
 "cells": [
  {
   "cell_type": "code",
   "execution_count": 1,
   "id": "d2ff171c-f5f8-4590-9ce0-21c87e3d5b39",
   "metadata": {},
   "outputs": [
    {
     "name": "stderr",
     "output_type": "stream",
     "text": [
      "INFO  2023-07-24 18:23:09,860-1d: \n",
      "loading model config\n",
      "llm device: cpu\n",
      "embedding device: cpu\n",
      "dir: /Users/wavy/Desktop/auto-st/langchain-LLM\n",
      "flagging username: 47330f0cb3db41fc9242d0ac9ff50191\n",
      "\n"
     ]
    }
   ],
   "source": [
    "import sys\n",
    "sys.path.append('/Users/wavy/Desktop/auto-st/langchain-LLM/')\n",
    "from langchain.llms.base import LLM\n",
    "import torch\n",
    "import transformers \n",
    "import models.shared as shared \n",
    "from abc import ABC\n",
    "\n",
    "from langchain.llms.base import LLM\n",
    "import random\n",
    "from transformers.generation.logits_process import LogitsProcessor\n",
    "from transformers.generation.utils import LogitsProcessorList, StoppingCriteriaList\n",
    "from typing import Optional, List, Dict, Any\n",
    "from models.loader import LoaderCheckPoint \n",
    "from models.base import (BaseAnswer,\n",
    "                         AnswerResult)\n",
    "\n"
   ]
  },
  {
   "cell_type": "code",
   "execution_count": 5,
   "id": "68978c38-c0e9-4ae9-ba90-9c02aca335be",
   "metadata": {},
   "outputs": [],
   "source": [
    "import asyncio\n",
    "from argparse import Namespace\n",
    "from models.loader.args import parser\n",
    "from langchain.agents import initialize_agent, Tool\n",
    "from langchain.agents import AgentType\n",
    " \n",
    "args = parser.parse_args(args=['--model', 'openai-chatgpt-3.5'])\n",
    "\n",
    "args_dict = vars(args)\n",
    "\n",
    "shared.loaderCheckPoint = LoaderCheckPoint(args_dict)\n",
    "torch.cuda.empty_cache()\n",
    "llm=shared.loaderLLM()"
   ]
  },
  {
   "cell_type": "code",
   "execution_count": 11,
   "id": "efa1c5e9",
   "metadata": {},
   "outputs": [],
   "source": [
    "import os\n",
    "from langchain.llms import OpenAI\n",
    "os.environ[\"OPENAI_API_KEY\"] = \"fk204612-ZsFmjA1waVoinXEZfN6w42Fr7467N5cq\"\n",
    "os.environ[\"OPENAI_API_BASE\"] = \"https://oa.api2d.net/v1\"\n",
    "llm = OpenAI(temperature=0)"
   ]
  },
  {
   "cell_type": "code",
   "execution_count": 12,
   "id": "9baa881f-5ff2-4958-b3a2-1653a5e8bc3b",
   "metadata": {},
   "outputs": [],
   "source": [
    "import sys\n",
    "from langchain.agents import Tool\n",
    "from langchain.tools import BaseTool\n",
    "from agent.custom_search import DeepSearch\n",
    "from agent.custom_agent import *\n",
    "\n",
    "\n",
    "tools = [\n",
    "    Tool.from_function(\n",
    "        func=DeepSearch.search,\n",
    "        name=\"DeepSearch\",\n",
    "        description=\"\"\n",
    "    )\n",
    "]\n",
    "tool_names = [tool.name for tool in tools]\n",
    "output_parser = CustomOutputParser()\n",
    "prompt = CustomPromptTemplate(template=agent_template,\n",
    "                              tools=tools,\n",
    "                              input_variables=[\"related_content\",\"tool_name\", \"input\", \"intermediate_steps\"])\n",
    "\n",
    "llm_chain = LLMChain(llm=llm, prompt=prompt)"
   ]
  },
  {
   "cell_type": "code",
   "execution_count": null,
   "id": "2ffd56a1-6f15-40ae-969f-68de228a9dff",
   "metadata": {},
   "outputs": [],
   "source": []
  },
  {
   "cell_type": "code",
   "execution_count": 16,
   "id": "21d66643-8d0b-40a2-a49f-2dc1c4f68698",
   "metadata": {},
   "outputs": [
    {
     "name": "stdout",
     "output_type": "stream",
     "text": [
      "\n",
      "\n",
      "\u001b[1m> Entering new AgentExecutor chain...\u001b[0m\n",
      "<re.Match object; span=(0, 21), match=\"\\nDeepSearch('各省高考分数')\">\n",
      "\u001b[32;1m\u001b[1;3m\n",
      "DeepSearch('各省高考分数')\u001b[0m\n",
      "\n",
      "Observation:\u001b[36;1m\u001b[1;3m2023年高考分数线全部公布，浙江省再夺全国第一，6个原因揭秘: 随着6月26日，西藏自治区招生考试委员会办公室发布《西藏自治区2023年普通高等学校招生录取最低控制分数线》公告，2023年全国内地31个省、市、自治区各层次、各段录取分数线全部浮出水面。\n",
      "31省份高考分数线全部公布: 高考阅卷工作进入尾声，全国各省份陆续公布高考成绩及各批次各类录取最低控制 ... 随着6月26日西藏2023年高考分数线的新鲜出炉，全国31省份高考分数线均已公布。 山东省教育厅在山东教育卫视召开了山东省2023年普通高考第二次新闻发布会，通报山东省今年 ...\n",
      "2023各地高考分数线汇总 全国各省市区高考录取最低分数线一览: 通报山东省今年夏季高考评卷工作、分数线划定情况及录取工作安排等。 经省招生考试委员会高考划线工作会议审议批准，现将今年我省高考各类别各批次分数线公布如下： 第一类：夏季高考各类分数线。 1.普通类：特殊类型招生控制线520分，一段线443分 ...\n",
      "各省高考分数线，差距太大了: 据江苏省教育考试院公布的数据： 2023年，全省物理类680分以上有375人，670分以上1162人，630分以上13586人，600分以上32621人。 而且照目前情况看来，分数会继续下降。低生育率在东北几乎无法解决，东北养个孩子太累了，太累了，太累了。\n",
      "最低481分，最大相差175分，中央财经大学2023各省录取分数线汇总: 不过，投档分数线不到600分的省、市、自治区，分别是：上海市（上海市的高考总分是660分，投档分数线564分，相当于高考总分750分的641分）、湖南省、湖北省、天津市、浙江省、安徽省、辽宁省、河南省、江西省、浙江省、江苏省、山东省、广东省、北京市，共13个省市。\n",
      "2022年全国各省高考录取分数线汇总 各省批次线一览: 3、2022年江西高考录取分数线 江西文史、理工类各批次文化录取控制分数线为 ... ②专业成绩最低控制分数线 省统考：美术专业203.00分；音乐专业74.00分；舞蹈专业67.00分；表演专业67.00分；书法学 专业73.00分。 省联考：播音与主持专业79.00分；广播电视编导 ...\u001b[0m\n",
      "None\n",
      "\u001b[32;1m\u001b[1;3m根据已知信息，各省高考分数线的最低分数为481分，最高分数为656分，中间相差175分。具体分数可以参考2022年全国各省高考录取分数线汇总，以及2023各地高考分数线汇总，具体分数可以根据不同省份和不同批次查看。\u001b[0m\n",
      "\n",
      "\u001b[1m> Finished chain.\u001b[0m\n",
      "根据已知信息，各省高考分数线的最低分数为481分，最高分数为656分，中间相差175分。具体分数可以参考2022年全国各省高考录取分数线汇总，以及2023各地高考分数线汇总，具体分数可以根据不同省份和不同批次查看。\n"
     ]
    }
   ],
   "source": [
    "from langchain.agents import BaseSingleActionAgent, AgentOutputParser, LLMSingleActionAgent, AgentExecutor\n",
    " \n",
    "\n",
    "agent = LLMSingleActionAgent(\n",
    "    llm_chain=llm_chain,\n",
    "    output_parser=output_parser,\n",
    "    stop=[\"\\nObservation:\"],\n",
    "    allowed_tools=tool_names\n",
    ")\n",
    "\n",
    "agent_executor = AgentExecutor.from_agent_and_tools(agent=agent, tools=tools, verbose=True)\n",
    "print(agent_executor.run(related_content=\"\", input=\"各省高考分数是多少\", tool_name=\"DeepSearch\"))\n",
    "\n"
   ]
  },
  {
   "cell_type": "code",
   "execution_count": 14,
   "id": "71ec6ba6-8898-4f53-b42c-26a0aa098de7",
   "metadata": {},
   "outputs": [
    {
     "name": "stdout",
     "output_type": "stream",
     "text": [
      "\n",
      "\n",
      "\u001b[1m> Entering new AgentExecutor chain...\u001b[0m\n",
      "\u001b[32;1m\u001b[1;3mAction:\n",
      "```\n",
      "{\n",
      "  \"action\": \"DeepSearch\",\n",
      "  \"action_input\": \"各省高考分数是多少\"\n",
      "}\n",
      "```\n",
      "\u001b[0m\n",
      "Observation: \u001b[36;1m\u001b[1;3m赶紧进来看看！2023各地高考分数线汇总，各省高考分数线是多少？: 天津市2023年普通本科录取控制分数线为472分。 天津市的高考录取模式仍然是“两依据、一参考”，考生的高考总成绩由普通高考和普通高中学业水平等级性考试构成。普通高考和等级考于6月7日至10日进行，约6.9万名考生参加考试。高考各科目采用网上评卷方式 ...\n",
      "赶紧进来看看！2023各地高考分数线汇总，各省高考分数线是多少？: 天津市2023年普通本科录取控制分数线为472分。 天津市的高考录取模式仍然是“两依据、一参考”，考生的高考总成绩由普通高考和普通高中学业水平等级性考试构成。普通高考和等级考于6月7日至10日进行，约6.9万名考生参加考试。高考各科目采用网上评卷方式 ...\n",
      "23年各省高考分数线公布，考多少分能上本科？河南考生哭晕在厕所: 23年各省高考分数线公布，考多少分能上本科？ 经过半个月的煎熬，最终各省市的高考分数也陆续揭晓，从整体上看的话，2023年的高考分数线照比2022年的高考录取线均有所下降，其实这也等同于今年是高考“小年”。 目前为止，黑吉辽、内蒙古、上海、安徽 ...\n",
      "多地公布2023高考分数线，你那里是多少？: 高考阅卷工作进入尾声，全国各省份陆续公布高考成绩及各批次各类录取最低控制分数线。6月23日起，全国多个省份先后“放榜”。 综合官方发布 ...\n",
      "2023年高考分数线预测，来看看各省市都需要多少分才可以上大学？: 2023年高考分数线预测：各省市录取最低高分线是多少？ 作为即将到来的重要考试，2023年高考的备考早已如火如荼地展开。每一位准备参加高考的考生都希望自己能够取得理想的成绩，顺利地被心仪的大学录取。所以，了解各省市的录取最低高分线成了高考生们 ...\n",
      "2023年高考分数线汇总 来看看你那里是多少: 现公布如下： 普通类各批次录取控制分数线 一、文科 ... 你所在省份的分数线是多少。 资料图：6月10日下午，北京市2022年高考结束，考生合影留念。\u001b[0m\n",
      "Thought:\u001b[32;1m\u001b[1;3m I know what to respond\n",
      "Action:\n",
      "```\n",
      "{\n",
      "  \"action\": \"Final Answer\",\n",
      "  \"action_input\": \"2023年各省高考分数线的具体情况可以参考以下链接：https://www.sohu.com/a/460907845_100144590\"\n",
      "}\n",
      "```\n",
      "\u001b[0m\n",
      "\n",
      "\u001b[1m> Finished chain.\u001b[0m\n"
     ]
    },
    {
     "data": {
      "text/plain": [
       "'2023年各省高考分数线的具体情况可以参考以下链接：https://www.sohu.com/a/460907845_100144590'"
      ]
     },
     "execution_count": 14,
     "metadata": {},
     "output_type": "execute_result"
    }
   ],
   "source": [
    "\n",
    "from langchain.tools import StructuredTool\n",
    "\n",
    "def multiplier(a: float, b: float) -> float:\n",
    "    \"\"\"Multiply the provided floats.\"\"\"\n",
    "    return a * b\n",
    "\n",
    "tool = StructuredTool.from_function(multiplier)\n",
    "# Structured tools are compatible with the STRUCTURED_CHAT_ZERO_SHOT_REACT_DESCRIPTION agent type. \n",
    "agent_executor = initialize_agent(tools, llm, agent=AgentType.STRUCTURED_CHAT_ZERO_SHOT_REACT_DESCRIPTION, verbose=True)\n",
    "agent_executor.run(\"各省高考分数是多少\")"
   ]
  },
  {
   "cell_type": "code",
   "execution_count": null,
   "id": "5ea510c3-88ce-4d30-86f3-cdd99973f27f",
   "metadata": {},
   "outputs": [],
   "source": []
  }
 ],
 "metadata": {
  "kernelspec": {
   "display_name": "Python 3 (ipykernel)",
   "language": "python",
   "name": "python3"
  },
  "language_info": {
   "codemirror_mode": {
    "name": "ipython",
    "version": 3
   },
   "file_extension": ".py",
   "mimetype": "text/x-python",
   "name": "python",
   "nbconvert_exporter": "python",
   "pygments_lexer": "ipython3",
   "version": "3.11.3"
  },
  "toc": {
   "base_numbering": 1,
   "nav_menu": {},
   "number_sections": true,
   "sideBar": true,
   "skip_h1_title": false,
   "title_cell": "Table of Contents",
   "title_sidebar": "Contents",
   "toc_cell": false,
   "toc_position": {},
   "toc_section_display": true,
   "toc_window_display": false
  }
 },
 "nbformat": 4,
 "nbformat_minor": 5
}
